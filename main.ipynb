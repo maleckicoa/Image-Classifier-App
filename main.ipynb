{
  "cells": [
    {
      "cell_type": "markdown",
      "metadata": {
        "id": "view-in-github",
        "colab_type": "text"
      },
      "source": [
        "<a href=\"https://colab.research.google.com/github/maleckicoa/Image-Classifier-App/blob/main/main.ipynb\" target=\"_parent\"><img src=\"https://colab.research.google.com/assets/colab-badge.svg\" alt=\"Open In Colab\"/></a>"
      ]
    },
    {
      "cell_type": "code",
      "execution_count": 1,
      "metadata": {
        "id": "Mrb20KGMtTFq"
      },
      "outputs": [],
      "source": [
        "import numpy as np\n",
        "from numpy import random\n",
        "import matplotlib.pyplot as plt\n",
        "from sklearn.metrics import confusion_matrix\n",
        "\n",
        "from tensorflow.keras.datasets import cifar10\n",
        "from tensorflow.keras.utils import to_categorical\n",
        "from tensorflow.keras.optimizers import SGD,Adam\n",
        "from tensorflow.keras.layers import RandomContrast, RandomFlip, RandomRotation, BatchNormalization, Activation\n",
        "\n",
        "from tensorflow.keras.applications import VGG16\n",
        "#from tensorflow.keras.models import Sequential\n",
        "#from tensorflow.keras.layers import Dense, Flatten, Dropout\n",
        "#from tensorflow.keras.optimizers import SGD\n",
        "#from tensorflow.keras.backend import clear_session\n",
        "#from tensorflow.image import resize\n",
        "\n",
        "import tensorflow as tf\n",
        "from tensorflow.image import resize\n",
        "\n",
        "from keras.backend import clear_session\n",
        "from keras import Sequential\n",
        "from keras.layers import Conv2D, MaxPooling2D, Flatten, Dense, Dropout\n",
        "\n",
        "\n"
      ]
    },
    {
      "cell_type": "code",
      "source": [
        "# Load CIFAR-10 dataset\n",
        "(x_train, y_train), (x_test, y_test) = cifar10.load_data()\n",
        "\n",
        "# See dataset shape\n",
        "print('Train Data Shape:', x_train.shape)\n",
        "print('Test Data Shape:',x_test.shape)\n",
        "print('Train Targets Shape:',y_train.shape)\n",
        "print('Test Targets Shape:',y_test.shape)\n",
        "\n",
        "# One-Hot encoding the Target variables\n",
        "y_train = to_categorical(y_train, num_classes=10)\n",
        "y_test = to_categorical(y_test, num_classes=10)\n",
        "\n",
        "# Standardizing the Input variables\n",
        "x_train = (x_train/255).astype(float)\n",
        "x_test = (x_test/255).astype(float)\n"
      ],
      "metadata": {
        "colab": {
          "base_uri": "https://localhost:8080/"
        },
        "id": "B2dWBPE5GL_S",
        "outputId": "b3e33177-c017-48bb-f994-cea7d392142e"
      },
      "execution_count": 3,
      "outputs": [
        {
          "output_type": "stream",
          "name": "stdout",
          "text": [
            "Train Data Shape: (50000, 32, 32, 3)\n",
            "Test Data Shape: (10000, 32, 32, 3)\n",
            "Train Targets Shape: (50000, 1)\n",
            "Test Targets Shape: (10000, 1)\n"
          ]
        }
      ]
    },
    {
      "cell_type": "code",
      "execution_count": 2,
      "metadata": {
        "colab": {
          "base_uri": "https://localhost:8080/",
          "height": 107
        },
        "id": "0xpTkLUhw8eL",
        "outputId": "9af897ad-4dfb-41cd-dedc-22cd07f07b16"
      },
      "outputs": [
        {
          "output_type": "execute_result",
          "data": {
            "text/plain": [
              "'\\nclass_names = [\\n    \\'airplane\\', \\'automobile\\', \\'bird\\', \\'cat\\', \\'deer\\',\\n    \\'dog\\', \\'frog\\', \\'horse\\', \\'ship\\', \\'truck\\'\\n]\\n\\nplt.figure(figsize=(10, 10))\\n\\ncnt=0\\nfor class_no, class_name in enumerate(class_names):\\n\\n  indices = (y_train.flatten() == class_no)\\n\\n  nums = np.random.randint(0, sum(indices), size=10).tolist()\\n\\n  images = x_train[indices][nums]\\n\\n  for image in images:\\n    cnt+=1\\n    plt.subplot(10, 10, cnt)\\n\\n    plt.imshow(image)\\n    if cnt in range(1,100,10):\\n      plt.title(f\"{class_name}s\")\\n\\n    plt.axis(\\'off\\')\\n\\nplt.tight_layout()\\nplt.show()\\n'"
            ],
            "application/vnd.google.colaboratory.intrinsic+json": {
              "type": "string"
            }
          },
          "metadata": {},
          "execution_count": 2
        }
      ],
      "source": [
        "\n",
        "\n",
        "# Cifar-10 offers no labels, we need to write them\n",
        "\"\"\"\n",
        "class_names = [\n",
        "    'airplane', 'automobile', 'bird', 'cat', 'deer',\n",
        "    'dog', 'frog', 'horse', 'ship', 'truck'\n",
        "]\n",
        "\n",
        "plt.figure(figsize=(10, 10))\n",
        "\n",
        "cnt=0\n",
        "for class_no, class_name in enumerate(class_names):\n",
        "\n",
        "  indices = (y_train.flatten() == class_no)\n",
        "\n",
        "  nums = np.random.randint(0, sum(indices), size=10).tolist()\n",
        "\n",
        "  images = x_train[indices][nums]\n",
        "\n",
        "  for image in images:\n",
        "    cnt+=1\n",
        "    plt.subplot(10, 10, cnt)\n",
        "\n",
        "    plt.imshow(image)\n",
        "    if cnt in range(1,100,10):\n",
        "      plt.title(f\"{class_name}s\")\n",
        "\n",
        "    plt.axis('off')\n",
        "\n",
        "plt.tight_layout()\n",
        "plt.show()\n",
        "\"\"\"\n"
      ]
    },
    {
      "cell_type": "markdown",
      "metadata": {
        "id": "2ER5WlMNRydp"
      },
      "source": [
        "## M1\n",
        "\n",
        "- Conv(32,32,3)\n",
        "- MaxPool\n",
        "- Dense(100)\n",
        "- Optimizer:SGD\n",
        "- Epochs: 50\n",
        "- Batch size: 512."
      ]
    },
    {
      "cell_type": "code",
      "execution_count": 5,
      "metadata": {
        "id": "iSN6riPISBMG",
        "colab": {
          "base_uri": "https://localhost:8080/"
        },
        "collapsed": true,
        "outputId": "bc8cd9c1-8257-4954-e572-70fd174bade8"
      },
      "outputs": [
        {
          "output_type": "stream",
          "name": "stderr",
          "text": [
            "/usr/local/lib/python3.12/dist-packages/keras/src/layers/convolutional/base_conv.py:113: UserWarning: Do not pass an `input_shape`/`input_dim` argument to a layer. When using Sequential models, prefer using an `Input(shape)` object as the first layer in the model instead.\n",
            "  super().__init__(activity_regularizer=activity_regularizer, **kwargs)\n"
          ]
        },
        {
          "output_type": "stream",
          "name": "stdout",
          "text": [
            "Epoch 1/50\n",
            "\u001b[1m88/88\u001b[0m \u001b[32m━━━━━━━━━━━━━━━━━━━━\u001b[0m\u001b[37m\u001b[0m \u001b[1m6s\u001b[0m 34ms/step - accuracy: 0.1368 - loss: 2.2823 - val_accuracy: 0.2424 - val_loss: 2.2189\n",
            "Epoch 2/50\n",
            "\u001b[1m88/88\u001b[0m \u001b[32m━━━━━━━━━━━━━━━━━━━━\u001b[0m\u001b[37m\u001b[0m \u001b[1m1s\u001b[0m 10ms/step - accuracy: 0.2344 - loss: 2.1931 - val_accuracy: 0.2534 - val_loss: 2.1075\n",
            "Epoch 3/50\n",
            "\u001b[1m88/88\u001b[0m \u001b[32m━━━━━━━━━━━━━━━━━━━━\u001b[0m\u001b[37m\u001b[0m \u001b[1m1s\u001b[0m 10ms/step - accuracy: 0.2718 - loss: 2.0802 - val_accuracy: 0.2944 - val_loss: 2.0159\n",
            "Epoch 4/50\n",
            "\u001b[1m88/88\u001b[0m \u001b[32m━━━━━━━━━━━━━━━━━━━━\u001b[0m\u001b[37m\u001b[0m \u001b[1m1s\u001b[0m 10ms/step - accuracy: 0.3045 - loss: 1.9911 - val_accuracy: 0.3070 - val_loss: 1.9594\n",
            "Epoch 5/50\n",
            "\u001b[1m88/88\u001b[0m \u001b[32m━━━━━━━━━━━━━━━━━━━━\u001b[0m\u001b[37m\u001b[0m \u001b[1m1s\u001b[0m 10ms/step - accuracy: 0.3250 - loss: 1.9393 - val_accuracy: 0.3240 - val_loss: 1.9237\n",
            "Epoch 6/50\n",
            "\u001b[1m88/88\u001b[0m \u001b[32m━━━━━━━━━━━━━━━━━━━━\u001b[0m\u001b[37m\u001b[0m \u001b[1m1s\u001b[0m 10ms/step - accuracy: 0.3382 - loss: 1.9047 - val_accuracy: 0.3416 - val_loss: 1.8885\n",
            "Epoch 7/50\n",
            "\u001b[1m88/88\u001b[0m \u001b[32m━━━━━━━━━━━━━━━━━━━━\u001b[0m\u001b[37m\u001b[0m \u001b[1m1s\u001b[0m 10ms/step - accuracy: 0.3495 - loss: 1.8719 - val_accuracy: 0.3510 - val_loss: 1.8744\n",
            "Epoch 8/50\n",
            "\u001b[1m88/88\u001b[0m \u001b[32m━━━━━━━━━━━━━━━━━━━━\u001b[0m\u001b[37m\u001b[0m \u001b[1m1s\u001b[0m 10ms/step - accuracy: 0.3602 - loss: 1.8479 - val_accuracy: 0.3698 - val_loss: 1.8328\n",
            "Epoch 9/50\n",
            "\u001b[1m88/88\u001b[0m \u001b[32m━━━━━━━━━━━━━━━━━━━━\u001b[0m\u001b[37m\u001b[0m \u001b[1m1s\u001b[0m 10ms/step - accuracy: 0.3705 - loss: 1.8212 - val_accuracy: 0.3702 - val_loss: 1.8156\n",
            "Epoch 10/50\n",
            "\u001b[1m88/88\u001b[0m \u001b[32m━━━━━━━━━━━━━━━━━━━━\u001b[0m\u001b[37m\u001b[0m \u001b[1m1s\u001b[0m 10ms/step - accuracy: 0.3806 - loss: 1.7901 - val_accuracy: 0.3652 - val_loss: 1.7991\n",
            "Epoch 11/50\n",
            "\u001b[1m88/88\u001b[0m \u001b[32m━━━━━━━━━━━━━━━━━━━━\u001b[0m\u001b[37m\u001b[0m \u001b[1m1s\u001b[0m 10ms/step - accuracy: 0.3819 - loss: 1.7750 - val_accuracy: 0.3892 - val_loss: 1.7703\n",
            "Epoch 12/50\n",
            "\u001b[1m88/88\u001b[0m \u001b[32m━━━━━━━━━━━━━━━━━━━━\u001b[0m\u001b[37m\u001b[0m \u001b[1m1s\u001b[0m 10ms/step - accuracy: 0.3937 - loss: 1.7498 - val_accuracy: 0.3958 - val_loss: 1.7459\n",
            "Epoch 13/50\n",
            "\u001b[1m88/88\u001b[0m \u001b[32m━━━━━━━━━━━━━━━━━━━━\u001b[0m\u001b[37m\u001b[0m \u001b[1m1s\u001b[0m 10ms/step - accuracy: 0.3991 - loss: 1.7320 - val_accuracy: 0.4014 - val_loss: 1.7175\n",
            "Epoch 14/50\n",
            "\u001b[1m88/88\u001b[0m \u001b[32m━━━━━━━━━━━━━━━━━━━━\u001b[0m\u001b[37m\u001b[0m \u001b[1m1s\u001b[0m 10ms/step - accuracy: 0.4085 - loss: 1.6973 - val_accuracy: 0.3960 - val_loss: 1.7404\n",
            "Epoch 15/50\n",
            "\u001b[1m88/88\u001b[0m \u001b[32m━━━━━━━━━━━━━━━━━━━━\u001b[0m\u001b[37m\u001b[0m \u001b[1m1s\u001b[0m 10ms/step - accuracy: 0.4100 - loss: 1.6900 - val_accuracy: 0.4160 - val_loss: 1.6797\n",
            "Epoch 16/50\n",
            "\u001b[1m88/88\u001b[0m \u001b[32m━━━━━━━━━━━━━━━━━━━━\u001b[0m\u001b[37m\u001b[0m \u001b[1m1s\u001b[0m 10ms/step - accuracy: 0.4253 - loss: 1.6593 - val_accuracy: 0.4206 - val_loss: 1.6623\n",
            "Epoch 17/50\n",
            "\u001b[1m88/88\u001b[0m \u001b[32m━━━━━━━━━━━━━━━━━━━━\u001b[0m\u001b[37m\u001b[0m \u001b[1m1s\u001b[0m 10ms/step - accuracy: 0.4194 - loss: 1.6579 - val_accuracy: 0.4056 - val_loss: 1.6834\n",
            "Epoch 18/50\n",
            "\u001b[1m88/88\u001b[0m \u001b[32m━━━━━━━━━━━━━━━━━━━━\u001b[0m\u001b[37m\u001b[0m \u001b[1m1s\u001b[0m 10ms/step - accuracy: 0.4287 - loss: 1.6251 - val_accuracy: 0.4232 - val_loss: 1.6534\n",
            "Epoch 19/50\n",
            "\u001b[1m88/88\u001b[0m \u001b[32m━━━━━━━━━━━━━━━━━━━━\u001b[0m\u001b[37m\u001b[0m \u001b[1m1s\u001b[0m 10ms/step - accuracy: 0.4338 - loss: 1.6181 - val_accuracy: 0.4342 - val_loss: 1.6072\n",
            "Epoch 20/50\n",
            "\u001b[1m88/88\u001b[0m \u001b[32m━━━━━━━━━━━━━━━━━━━━\u001b[0m\u001b[37m\u001b[0m \u001b[1m1s\u001b[0m 10ms/step - accuracy: 0.4422 - loss: 1.5988 - val_accuracy: 0.4262 - val_loss: 1.6198\n",
            "Epoch 21/50\n",
            "\u001b[1m88/88\u001b[0m \u001b[32m━━━━━━━━━━━━━━━━━━━━\u001b[0m\u001b[37m\u001b[0m \u001b[1m1s\u001b[0m 10ms/step - accuracy: 0.4467 - loss: 1.5746 - val_accuracy: 0.4408 - val_loss: 1.5946\n",
            "Epoch 22/50\n",
            "\u001b[1m88/88\u001b[0m \u001b[32m━━━━━━━━━━━━━━━━━━━━\u001b[0m\u001b[37m\u001b[0m \u001b[1m1s\u001b[0m 10ms/step - accuracy: 0.4539 - loss: 1.5581 - val_accuracy: 0.4502 - val_loss: 1.5604\n",
            "Epoch 23/50\n",
            "\u001b[1m88/88\u001b[0m \u001b[32m━━━━━━━━━━━━━━━━━━━━\u001b[0m\u001b[37m\u001b[0m \u001b[1m1s\u001b[0m 10ms/step - accuracy: 0.4554 - loss: 1.5520 - val_accuracy: 0.4546 - val_loss: 1.5568\n",
            "Epoch 24/50\n",
            "\u001b[1m88/88\u001b[0m \u001b[32m━━━━━━━━━━━━━━━━━━━━\u001b[0m\u001b[37m\u001b[0m \u001b[1m1s\u001b[0m 10ms/step - accuracy: 0.4629 - loss: 1.5356 - val_accuracy: 0.4620 - val_loss: 1.5346\n",
            "Epoch 25/50\n",
            "\u001b[1m88/88\u001b[0m \u001b[32m━━━━━━━━━━━━━━━━━━━━\u001b[0m\u001b[37m\u001b[0m \u001b[1m1s\u001b[0m 10ms/step - accuracy: 0.4672 - loss: 1.5101 - val_accuracy: 0.4658 - val_loss: 1.5171\n",
            "Epoch 26/50\n",
            "\u001b[1m88/88\u001b[0m \u001b[32m━━━━━━━━━━━━━━━━━━━━\u001b[0m\u001b[37m\u001b[0m \u001b[1m1s\u001b[0m 10ms/step - accuracy: 0.4737 - loss: 1.4945 - val_accuracy: 0.4686 - val_loss: 1.5146\n",
            "Epoch 27/50\n",
            "\u001b[1m88/88\u001b[0m \u001b[32m━━━━━━━━━━━━━━━━━━━━\u001b[0m\u001b[37m\u001b[0m \u001b[1m1s\u001b[0m 10ms/step - accuracy: 0.4811 - loss: 1.4820 - val_accuracy: 0.4708 - val_loss: 1.5087\n",
            "Epoch 28/50\n",
            "\u001b[1m88/88\u001b[0m \u001b[32m━━━━━━━━━━━━━━━━━━━━\u001b[0m\u001b[37m\u001b[0m \u001b[1m1s\u001b[0m 10ms/step - accuracy: 0.4831 - loss: 1.4677 - val_accuracy: 0.4836 - val_loss: 1.4781\n",
            "Epoch 29/50\n",
            "\u001b[1m88/88\u001b[0m \u001b[32m━━━━━━━━━━━━━━━━━━━━\u001b[0m\u001b[37m\u001b[0m \u001b[1m1s\u001b[0m 10ms/step - accuracy: 0.4857 - loss: 1.4589 - val_accuracy: 0.4774 - val_loss: 1.4871\n",
            "Epoch 30/50\n",
            "\u001b[1m88/88\u001b[0m \u001b[32m━━━━━━━━━━━━━━━━━━━━\u001b[0m\u001b[37m\u001b[0m \u001b[1m1s\u001b[0m 10ms/step - accuracy: 0.4896 - loss: 1.4541 - val_accuracy: 0.4754 - val_loss: 1.4871\n",
            "Epoch 31/50\n",
            "\u001b[1m88/88\u001b[0m \u001b[32m━━━━━━━━━━━━━━━━━━━━\u001b[0m\u001b[37m\u001b[0m \u001b[1m1s\u001b[0m 10ms/step - accuracy: 0.4937 - loss: 1.4400 - val_accuracy: 0.4886 - val_loss: 1.4667\n",
            "Epoch 32/50\n",
            "\u001b[1m88/88\u001b[0m \u001b[32m━━━━━━━━━━━━━━━━━━━━\u001b[0m\u001b[37m\u001b[0m \u001b[1m1s\u001b[0m 10ms/step - accuracy: 0.4934 - loss: 1.4359 - val_accuracy: 0.4948 - val_loss: 1.4542\n",
            "Epoch 33/50\n",
            "\u001b[1m88/88\u001b[0m \u001b[32m━━━━━━━━━━━━━━━━━━━━\u001b[0m\u001b[37m\u001b[0m \u001b[1m1s\u001b[0m 10ms/step - accuracy: 0.5047 - loss: 1.4124 - val_accuracy: 0.4992 - val_loss: 1.4245\n",
            "Epoch 34/50\n",
            "\u001b[1m88/88\u001b[0m \u001b[32m━━━━━━━━━━━━━━━━━━━━\u001b[0m\u001b[37m\u001b[0m \u001b[1m1s\u001b[0m 10ms/step - accuracy: 0.5019 - loss: 1.4075 - val_accuracy: 0.4908 - val_loss: 1.4536\n",
            "Epoch 35/50\n",
            "\u001b[1m88/88\u001b[0m \u001b[32m━━━━━━━━━━━━━━━━━━━━\u001b[0m\u001b[37m\u001b[0m \u001b[1m1s\u001b[0m 10ms/step - accuracy: 0.5032 - loss: 1.4003 - val_accuracy: 0.4876 - val_loss: 1.4490\n",
            "Epoch 36/50\n",
            "\u001b[1m88/88\u001b[0m \u001b[32m━━━━━━━━━━━━━━━━━━━━\u001b[0m\u001b[37m\u001b[0m \u001b[1m1s\u001b[0m 10ms/step - accuracy: 0.5119 - loss: 1.3862 - val_accuracy: 0.5010 - val_loss: 1.4183\n",
            "Epoch 37/50\n",
            "\u001b[1m88/88\u001b[0m \u001b[32m━━━━━━━━━━━━━━━━━━━━\u001b[0m\u001b[37m\u001b[0m \u001b[1m1s\u001b[0m 10ms/step - accuracy: 0.5120 - loss: 1.3812 - val_accuracy: 0.5064 - val_loss: 1.4242\n",
            "Epoch 38/50\n",
            "\u001b[1m88/88\u001b[0m \u001b[32m━━━━━━━━━━━━━━━━━━━━\u001b[0m\u001b[37m\u001b[0m \u001b[1m1s\u001b[0m 10ms/step - accuracy: 0.5155 - loss: 1.3775 - val_accuracy: 0.5218 - val_loss: 1.3801\n",
            "Epoch 39/50\n",
            "\u001b[1m88/88\u001b[0m \u001b[32m━━━━━━━━━━━━━━━━━━━━\u001b[0m\u001b[37m\u001b[0m \u001b[1m1s\u001b[0m 10ms/step - accuracy: 0.5216 - loss: 1.3585 - val_accuracy: 0.5064 - val_loss: 1.3935\n",
            "Epoch 40/50\n",
            "\u001b[1m88/88\u001b[0m \u001b[32m━━━━━━━━━━━━━━━━━━━━\u001b[0m\u001b[37m\u001b[0m \u001b[1m1s\u001b[0m 10ms/step - accuracy: 0.5224 - loss: 1.3563 - val_accuracy: 0.5248 - val_loss: 1.3720\n",
            "Epoch 41/50\n",
            "\u001b[1m88/88\u001b[0m \u001b[32m━━━━━━━━━━━━━━━━━━━━\u001b[0m\u001b[37m\u001b[0m \u001b[1m1s\u001b[0m 10ms/step - accuracy: 0.5259 - loss: 1.3493 - val_accuracy: 0.5154 - val_loss: 1.3769\n",
            "Epoch 42/50\n",
            "\u001b[1m88/88\u001b[0m \u001b[32m━━━━━━━━━━━━━━━━━━━━\u001b[0m\u001b[37m\u001b[0m \u001b[1m1s\u001b[0m 10ms/step - accuracy: 0.5287 - loss: 1.3437 - val_accuracy: 0.5348 - val_loss: 1.3527\n",
            "Epoch 43/50\n",
            "\u001b[1m88/88\u001b[0m \u001b[32m━━━━━━━━━━━━━━━━━━━━\u001b[0m\u001b[37m\u001b[0m \u001b[1m1s\u001b[0m 10ms/step - accuracy: 0.5319 - loss: 1.3303 - val_accuracy: 0.5230 - val_loss: 1.3579\n",
            "Epoch 44/50\n",
            "\u001b[1m88/88\u001b[0m \u001b[32m━━━━━━━━━━━━━━━━━━━━\u001b[0m\u001b[37m\u001b[0m \u001b[1m1s\u001b[0m 10ms/step - accuracy: 0.5297 - loss: 1.3287 - val_accuracy: 0.5364 - val_loss: 1.3396\n",
            "Epoch 45/50\n",
            "\u001b[1m88/88\u001b[0m \u001b[32m━━━━━━━━━━━━━━━━━━━━\u001b[0m\u001b[37m\u001b[0m \u001b[1m1s\u001b[0m 10ms/step - accuracy: 0.5366 - loss: 1.3136 - val_accuracy: 0.5416 - val_loss: 1.3299\n",
            "Epoch 46/50\n",
            "\u001b[1m88/88\u001b[0m \u001b[32m━━━━━━━━━━━━━━━━━━━━\u001b[0m\u001b[37m\u001b[0m \u001b[1m1s\u001b[0m 10ms/step - accuracy: 0.5420 - loss: 1.3079 - val_accuracy: 0.5322 - val_loss: 1.3369\n",
            "Epoch 47/50\n",
            "\u001b[1m88/88\u001b[0m \u001b[32m━━━━━━━━━━━━━━━━━━━━\u001b[0m\u001b[37m\u001b[0m \u001b[1m1s\u001b[0m 10ms/step - accuracy: 0.5465 - loss: 1.2975 - val_accuracy: 0.5394 - val_loss: 1.3224\n",
            "Epoch 48/50\n",
            "\u001b[1m88/88\u001b[0m \u001b[32m━━━━━━━━━━━━━━━━━━━━\u001b[0m\u001b[37m\u001b[0m \u001b[1m1s\u001b[0m 10ms/step - accuracy: 0.5414 - loss: 1.2974 - val_accuracy: 0.5428 - val_loss: 1.3213\n",
            "Epoch 49/50\n",
            "\u001b[1m88/88\u001b[0m \u001b[32m━━━━━━━━━━━━━━━━━━━━\u001b[0m\u001b[37m\u001b[0m \u001b[1m1s\u001b[0m 10ms/step - accuracy: 0.5476 - loss: 1.2823 - val_accuracy: 0.5490 - val_loss: 1.2971\n",
            "Epoch 50/50\n",
            "\u001b[1m88/88\u001b[0m \u001b[32m━━━━━━━━━━━━━━━━━━━━\u001b[0m\u001b[37m\u001b[0m \u001b[1m1s\u001b[0m 10ms/step - accuracy: 0.5513 - loss: 1.2846 - val_accuracy: 0.5462 - val_loss: 1.3119\n",
            "\u001b[1m313/313\u001b[0m \u001b[32m━━━━━━━━━━━━━━━━━━━━\u001b[0m\u001b[37m\u001b[0m \u001b[1m1s\u001b[0m 3ms/step - accuracy: 0.5381 - loss: 1.3091\n",
            "Test accuracy: 0.5382999777793884\n",
            "\u001b[1m313/313\u001b[0m \u001b[32m━━━━━━━━━━━━━━━━━━━━\u001b[0m\u001b[37m\u001b[0m \u001b[1m1s\u001b[0m 2ms/step\n"
          ]
        },
        {
          "output_type": "execute_result",
          "data": {
            "text/plain": [
              "array([[602,  26,  91,  31,  42,  19,   9,  18, 114,  37],\n",
              "       [ 67, 698,  37,  35,  14,  14,  26,  14,  95, 156],\n",
              "       [ 46,   3, 382,  75, 124,  71,  52,  32,  12,   8],\n",
              "       [ 10,   4,  50, 272,  46, 134,  71,  36,  10,  12],\n",
              "       [ 11,   5, 100,  56, 384,  48,  80,  47,   3,   6],\n",
              "       [ 14,   3, 113, 252,  92, 486,  63,  90,  13,  14],\n",
              "       [ 20,  12,  87, 111, 123,  55, 602,  29,   9,  19],\n",
              "       [ 24,  11,  80,  62, 129, 109,  38, 631,  12,  25],\n",
              "       [115,  42,  26,  18,  17,  20,  10,   8, 630,  27],\n",
              "       [ 91, 196,  34,  88,  29,  44,  49,  95, 102, 696]])"
            ]
          },
          "metadata": {},
          "execution_count": 5
        }
      ],
      "source": [
        "clear_session()\n",
        "m1 = Sequential()\n",
        "m1.add(Conv2D(32, (3,3), activation=\"relu\", input_shape=(32,32,3)))\n",
        "m1.add(MaxPooling2D(2,2))\n",
        "m1.add(Flatten())\n",
        "m1.add(Dense(100, activation=\"relu\"))\n",
        "m1.add(Dense(10, activation=\"softmax\"))\n",
        "\n",
        "m1.compile(\n",
        "    optimizer=\"sgd\",\n",
        "    loss=\"categorical_crossentropy\",\n",
        "    metrics=[\"accuracy\"]\n",
        ")\n",
        "\n",
        "m1_history = m1.fit(x_train,\n",
        "                 y_train,\n",
        "                 epochs= 50,\n",
        "                 batch_size=512,\n",
        "                 validation_split=0.1)\n",
        "\n",
        "###################################\n",
        "test_loss, test_acc = m1.evaluate(x_test, y_test)\n",
        "print('M1 Test accuracy:', test_acc)\n",
        "\n",
        "m1_pred = m1.predict(x_test)\n",
        "m1_pred = np.argmax(m1_pred, axis=1)\n",
        "y_true = np.argmax(y_test, axis=1)\n",
        "\n",
        "confusion_matrix(m1_pred, y_true)\n"
      ]
    },
    {
      "cell_type": "markdown",
      "metadata": {
        "id": "G2mrWK5hSB_o"
      },
      "source": [
        "## M2\n",
        "\n",
        "- 2 x Conv(32,32,3)\n",
        "- MaxPool\n",
        "- Dense(128)\n",
        "- Optimizer:SGD\n",
        "- Epochs: 50\n",
        "- Batch size: 512\n",
        "\n",
        "\n"
      ]
    },
    {
      "cell_type": "code",
      "execution_count": null,
      "metadata": {
        "colab": {
          "base_uri": "https://localhost:8080/"
        },
        "id": "cgca5dUNSFNc",
        "outputId": "c2d9d0d7-3ee3-4cc0-b1ba-d1169c3d3859"
      },
      "outputs": [
        {
          "name": "stderr",
          "output_type": "stream",
          "text": [
            "/usr/local/lib/python3.12/dist-packages/keras/src/layers/convolutional/base_conv.py:113: UserWarning: Do not pass an `input_shape`/`input_dim` argument to a layer. When using Sequential models, prefer using an `Input(shape)` object as the first layer in the model instead.\n",
            "  super().__init__(activity_regularizer=activity_regularizer, **kwargs)\n"
          ]
        }
      ],
      "source": [
        "clear_session()\n",
        "\n",
        "m2 = Sequential()\n",
        "m2.add(Conv2D(32, (3,3), activation=\"relu\", padding=\"same\", input_shape=(32,32,3)))\n",
        "m2.add(Conv2D(32, (3,3), activation=\"relu\", padding=\"same\"))\n",
        "m2.add(MaxPooling2D((2,2)))\n",
        "m2.add(Flatten())\n",
        "m2.add(Dense(128, activation=\"relu\"))\n",
        "m2.add(Dense(10, activation=\"softmax\"))\n",
        "\n",
        "m2.compile(optimizer='sgd',\n",
        "              loss='categorical_crossentropy',\n",
        "              metrics=['accuracy'])\n",
        "\n",
        "m2_history = m2.fit(x_train,\n",
        "                    y_train,\n",
        "                    batch_size=512,\n",
        "                    epochs=50,\n",
        "                    validation_split=0.1)\n",
        "\n",
        "\n",
        "###################################\n",
        "test_loss, test_acc = m2.evaluate(x_test, y_test)\n",
        "print('M2 Test accuracy:', test_acc)\n",
        "\n",
        "m2_pred = m2.predict(x_test)\n",
        "m2_pred = np.argmax(m2_pred, axis=1)\n",
        "y_true = np.argmax(y_test, axis=1)\n",
        "confusion_matrix(m2_pred, y_true)"
      ]
    },
    {
      "cell_type": "markdown",
      "metadata": {
        "id": "qaXqFbHOmafK"
      },
      "source": [
        "## M4 - 78% Test Accuracy\n",
        "\n",
        "- Conv(32,32,3)\n",
        "- MaxPool\n",
        "- Dropout\n",
        "- Conv(64,64,3)\n",
        "- MaxPool\n",
        "- Dropout\n",
        "- Dense(128)\n",
        "- Dropout\n",
        "\n",
        "- Optimizer:SGD -> Learning Rate 0.01, Momentum 0.9\n",
        "- Epochs: 50\n",
        "- Batch size: 512"
      ]
    },
    {
      "cell_type": "code",
      "execution_count": 24,
      "metadata": {
        "colab": {
          "base_uri": "https://localhost:8080/"
        },
        "id": "7TibOor8TLet",
        "outputId": "28e98cca-4605-414d-9db8-27b6b03d6caa",
        "collapsed": true
      },
      "outputs": [
        {
          "output_type": "stream",
          "name": "stderr",
          "text": [
            "/usr/local/lib/python3.12/dist-packages/keras/src/layers/convolutional/base_conv.py:113: UserWarning: Do not pass an `input_shape`/`input_dim` argument to a layer. When using Sequential models, prefer using an `Input(shape)` object as the first layer in the model instead.\n",
            "  super().__init__(activity_regularizer=activity_regularizer, **kwargs)\n"
          ]
        },
        {
          "output_type": "stream",
          "name": "stdout",
          "text": [
            "Epoch 1/50\n",
            "\u001b[1m88/88\u001b[0m \u001b[32m━━━━━━━━━━━━━━━━━━━━\u001b[0m\u001b[37m\u001b[0m \u001b[1m12s\u001b[0m 86ms/step - accuracy: 0.2106 - loss: 2.1238 - val_accuracy: 0.4296 - val_loss: 1.5378\n",
            "Epoch 2/50\n",
            "\u001b[1m88/88\u001b[0m \u001b[32m━━━━━━━━━━━━━━━━━━━━\u001b[0m\u001b[37m\u001b[0m \u001b[1m3s\u001b[0m 38ms/step - accuracy: 0.4225 - loss: 1.6029 - val_accuracy: 0.5182 - val_loss: 1.3211\n",
            "Epoch 3/50\n",
            "\u001b[1m88/88\u001b[0m \u001b[32m━━━━━━━━━━━━━━━━━━━━\u001b[0m\u001b[37m\u001b[0m \u001b[1m3s\u001b[0m 38ms/step - accuracy: 0.4785 - loss: 1.4358 - val_accuracy: 0.5706 - val_loss: 1.2111\n",
            "Epoch 4/50\n",
            "\u001b[1m88/88\u001b[0m \u001b[32m━━━━━━━━━━━━━━━━━━━━\u001b[0m\u001b[37m\u001b[0m \u001b[1m3s\u001b[0m 38ms/step - accuracy: 0.5263 - loss: 1.3242 - val_accuracy: 0.5884 - val_loss: 1.1638\n",
            "Epoch 5/50\n",
            "\u001b[1m88/88\u001b[0m \u001b[32m━━━━━━━━━━━━━━━━━━━━\u001b[0m\u001b[37m\u001b[0m \u001b[1m3s\u001b[0m 38ms/step - accuracy: 0.5575 - loss: 1.2429 - val_accuracy: 0.6288 - val_loss: 1.0585\n",
            "Epoch 6/50\n",
            "\u001b[1m88/88\u001b[0m \u001b[32m━━━━━━━━━━━━━━━━━━━━\u001b[0m\u001b[37m\u001b[0m \u001b[1m3s\u001b[0m 38ms/step - accuracy: 0.5759 - loss: 1.1870 - val_accuracy: 0.6550 - val_loss: 0.9808\n",
            "Epoch 7/50\n",
            "\u001b[1m88/88\u001b[0m \u001b[32m━━━━━━━━━━━━━━━━━━━━\u001b[0m\u001b[37m\u001b[0m \u001b[1m3s\u001b[0m 39ms/step - accuracy: 0.6025 - loss: 1.1244 - val_accuracy: 0.6704 - val_loss: 0.9412\n",
            "Epoch 8/50\n",
            "\u001b[1m88/88\u001b[0m \u001b[32m━━━━━━━━━━━━━━━━━━━━\u001b[0m\u001b[37m\u001b[0m \u001b[1m3s\u001b[0m 39ms/step - accuracy: 0.6159 - loss: 1.0863 - val_accuracy: 0.6798 - val_loss: 0.9270\n",
            "Epoch 9/50\n",
            "\u001b[1m88/88\u001b[0m \u001b[32m━━━━━━━━━━━━━━━━━━━━\u001b[0m\u001b[37m\u001b[0m \u001b[1m3s\u001b[0m 39ms/step - accuracy: 0.6349 - loss: 1.0441 - val_accuracy: 0.6974 - val_loss: 0.8672\n",
            "Epoch 10/50\n",
            "\u001b[1m88/88\u001b[0m \u001b[32m━━━━━━━━━━━━━━━━━━━━\u001b[0m\u001b[37m\u001b[0m \u001b[1m3s\u001b[0m 39ms/step - accuracy: 0.6518 - loss: 0.9868 - val_accuracy: 0.7082 - val_loss: 0.8456\n",
            "Epoch 11/50\n",
            "\u001b[1m88/88\u001b[0m \u001b[32m━━━━━━━━━━━━━━━━━━━━\u001b[0m\u001b[37m\u001b[0m \u001b[1m3s\u001b[0m 38ms/step - accuracy: 0.6661 - loss: 0.9570 - val_accuracy: 0.7124 - val_loss: 0.8311\n",
            "Epoch 12/50\n",
            "\u001b[1m88/88\u001b[0m \u001b[32m━━━━━━━━━━━━━━━━━━━━\u001b[0m\u001b[37m\u001b[0m \u001b[1m3s\u001b[0m 38ms/step - accuracy: 0.6752 - loss: 0.9283 - val_accuracy: 0.7114 - val_loss: 0.8267\n",
            "Epoch 13/50\n",
            "\u001b[1m88/88\u001b[0m \u001b[32m━━━━━━━━━━━━━━━━━━━━\u001b[0m\u001b[37m\u001b[0m \u001b[1m3s\u001b[0m 38ms/step - accuracy: 0.6741 - loss: 0.9178 - val_accuracy: 0.7292 - val_loss: 0.7834\n",
            "Epoch 14/50\n",
            "\u001b[1m88/88\u001b[0m \u001b[32m━━━━━━━━━━━━━━━━━━━━\u001b[0m\u001b[37m\u001b[0m \u001b[1m3s\u001b[0m 38ms/step - accuracy: 0.7000 - loss: 0.8615 - val_accuracy: 0.7360 - val_loss: 0.7535\n",
            "Epoch 15/50\n",
            "\u001b[1m88/88\u001b[0m \u001b[32m━━━━━━━━━━━━━━━━━━━━\u001b[0m\u001b[37m\u001b[0m \u001b[1m3s\u001b[0m 38ms/step - accuracy: 0.7016 - loss: 0.8541 - val_accuracy: 0.7472 - val_loss: 0.7254\n",
            "Epoch 16/50\n",
            "\u001b[1m88/88\u001b[0m \u001b[32m━━━━━━━━━━━━━━━━━━━━\u001b[0m\u001b[37m\u001b[0m \u001b[1m3s\u001b[0m 38ms/step - accuracy: 0.7092 - loss: 0.8303 - val_accuracy: 0.7462 - val_loss: 0.7450\n",
            "Epoch 17/50\n",
            "\u001b[1m88/88\u001b[0m \u001b[32m━━━━━━━━━━━━━━━━━━━━\u001b[0m\u001b[37m\u001b[0m \u001b[1m3s\u001b[0m 38ms/step - accuracy: 0.7169 - loss: 0.8100 - val_accuracy: 0.7426 - val_loss: 0.7373\n",
            "Epoch 18/50\n",
            "\u001b[1m88/88\u001b[0m \u001b[32m━━━━━━━━━━━━━━━━━━━━\u001b[0m\u001b[37m\u001b[0m \u001b[1m3s\u001b[0m 38ms/step - accuracy: 0.7206 - loss: 0.7967 - val_accuracy: 0.7548 - val_loss: 0.7201\n",
            "Epoch 19/50\n",
            "\u001b[1m88/88\u001b[0m \u001b[32m━━━━━━━━━━━━━━━━━━━━\u001b[0m\u001b[37m\u001b[0m \u001b[1m3s\u001b[0m 38ms/step - accuracy: 0.7233 - loss: 0.7764 - val_accuracy: 0.7560 - val_loss: 0.7034\n",
            "Epoch 20/50\n",
            "\u001b[1m88/88\u001b[0m \u001b[32m━━━━━━━━━━━━━━━━━━━━\u001b[0m\u001b[37m\u001b[0m \u001b[1m3s\u001b[0m 38ms/step - accuracy: 0.7315 - loss: 0.7564 - val_accuracy: 0.7518 - val_loss: 0.7082\n",
            "Epoch 21/50\n",
            "\u001b[1m88/88\u001b[0m \u001b[32m━━━━━━━━━━━━━━━━━━━━\u001b[0m\u001b[37m\u001b[0m \u001b[1m3s\u001b[0m 38ms/step - accuracy: 0.7372 - loss: 0.7423 - val_accuracy: 0.7716 - val_loss: 0.6745\n",
            "Epoch 22/50\n",
            "\u001b[1m88/88\u001b[0m \u001b[32m━━━━━━━━━━━━━━━━━━━━\u001b[0m\u001b[37m\u001b[0m \u001b[1m3s\u001b[0m 38ms/step - accuracy: 0.7457 - loss: 0.7225 - val_accuracy: 0.7626 - val_loss: 0.7050\n",
            "Epoch 23/50\n",
            "\u001b[1m88/88\u001b[0m \u001b[32m━━━━━━━━━━━━━━━━━━━━\u001b[0m\u001b[37m\u001b[0m \u001b[1m3s\u001b[0m 38ms/step - accuracy: 0.7471 - loss: 0.7141 - val_accuracy: 0.7684 - val_loss: 0.6788\n",
            "Epoch 24/50\n",
            "\u001b[1m88/88\u001b[0m \u001b[32m━━━━━━━━━━━━━━━━━━━━\u001b[0m\u001b[37m\u001b[0m \u001b[1m3s\u001b[0m 38ms/step - accuracy: 0.7459 - loss: 0.7057 - val_accuracy: 0.7730 - val_loss: 0.6642\n",
            "Epoch 25/50\n",
            "\u001b[1m88/88\u001b[0m \u001b[32m━━━━━━━━━━━━━━━━━━━━\u001b[0m\u001b[37m\u001b[0m \u001b[1m3s\u001b[0m 38ms/step - accuracy: 0.7532 - loss: 0.6914 - val_accuracy: 0.7692 - val_loss: 0.6726\n",
            "Epoch 26/50\n",
            "\u001b[1m88/88\u001b[0m \u001b[32m━━━━━━━━━━━━━━━━━━━━\u001b[0m\u001b[37m\u001b[0m \u001b[1m3s\u001b[0m 38ms/step - accuracy: 0.7592 - loss: 0.6775 - val_accuracy: 0.7788 - val_loss: 0.6691\n",
            "Epoch 27/50\n",
            "\u001b[1m88/88\u001b[0m \u001b[32m━━━━━━━━━━━━━━━━━━━━\u001b[0m\u001b[37m\u001b[0m \u001b[1m3s\u001b[0m 38ms/step - accuracy: 0.7629 - loss: 0.6692 - val_accuracy: 0.7738 - val_loss: 0.6799\n",
            "Epoch 28/50\n",
            "\u001b[1m88/88\u001b[0m \u001b[32m━━━━━━━━━━━━━━━━━━━━\u001b[0m\u001b[37m\u001b[0m \u001b[1m3s\u001b[0m 38ms/step - accuracy: 0.7653 - loss: 0.6578 - val_accuracy: 0.7766 - val_loss: 0.6594\n",
            "Epoch 29/50\n",
            "\u001b[1m88/88\u001b[0m \u001b[32m━━━━━━━━━━━━━━━━━━━━\u001b[0m\u001b[37m\u001b[0m \u001b[1m3s\u001b[0m 38ms/step - accuracy: 0.7652 - loss: 0.6521 - val_accuracy: 0.7838 - val_loss: 0.6437\n",
            "Epoch 30/50\n",
            "\u001b[1m88/88\u001b[0m \u001b[32m━━━━━━━━━━━━━━━━━━━━\u001b[0m\u001b[37m\u001b[0m \u001b[1m3s\u001b[0m 38ms/step - accuracy: 0.7736 - loss: 0.6303 - val_accuracy: 0.7798 - val_loss: 0.6530\n",
            "Epoch 31/50\n",
            "\u001b[1m88/88\u001b[0m \u001b[32m━━━━━━━━━━━━━━━━━━━━\u001b[0m\u001b[37m\u001b[0m \u001b[1m3s\u001b[0m 38ms/step - accuracy: 0.7798 - loss: 0.6169 - val_accuracy: 0.7848 - val_loss: 0.6421\n",
            "Epoch 32/50\n",
            "\u001b[1m88/88\u001b[0m \u001b[32m━━━━━━━━━━━━━━━━━━━━\u001b[0m\u001b[37m\u001b[0m \u001b[1m3s\u001b[0m 38ms/step - accuracy: 0.7806 - loss: 0.6088 - val_accuracy: 0.7920 - val_loss: 0.6399\n",
            "Epoch 33/50\n",
            "\u001b[1m88/88\u001b[0m \u001b[32m━━━━━━━━━━━━━━━━━━━━\u001b[0m\u001b[37m\u001b[0m \u001b[1m3s\u001b[0m 38ms/step - accuracy: 0.7887 - loss: 0.5875 - val_accuracy: 0.7828 - val_loss: 0.6450\n",
            "Epoch 34/50\n",
            "\u001b[1m88/88\u001b[0m \u001b[32m━━━━━━━━━━━━━━━━━━━━\u001b[0m\u001b[37m\u001b[0m \u001b[1m3s\u001b[0m 38ms/step - accuracy: 0.7883 - loss: 0.5895 - val_accuracy: 0.7836 - val_loss: 0.6454\n",
            "Epoch 35/50\n",
            "\u001b[1m88/88\u001b[0m \u001b[32m━━━━━━━━━━━━━━━━━━━━\u001b[0m\u001b[37m\u001b[0m \u001b[1m3s\u001b[0m 38ms/step - accuracy: 0.7979 - loss: 0.5710 - val_accuracy: 0.7836 - val_loss: 0.6394\n",
            "Epoch 36/50\n",
            "\u001b[1m88/88\u001b[0m \u001b[32m━━━━━━━━━━━━━━━━━━━━\u001b[0m\u001b[37m\u001b[0m \u001b[1m3s\u001b[0m 38ms/step - accuracy: 0.7959 - loss: 0.5630 - val_accuracy: 0.7884 - val_loss: 0.6247\n",
            "Epoch 37/50\n",
            "\u001b[1m88/88\u001b[0m \u001b[32m━━━━━━━━━━━━━━━━━━━━\u001b[0m\u001b[37m\u001b[0m \u001b[1m3s\u001b[0m 38ms/step - accuracy: 0.7992 - loss: 0.5617 - val_accuracy: 0.7914 - val_loss: 0.6307\n",
            "Epoch 38/50\n",
            "\u001b[1m88/88\u001b[0m \u001b[32m━━━━━━━━━━━━━━━━━━━━\u001b[0m\u001b[37m\u001b[0m \u001b[1m3s\u001b[0m 38ms/step - accuracy: 0.7940 - loss: 0.5663 - val_accuracy: 0.7882 - val_loss: 0.6271\n",
            "Epoch 39/50\n",
            "\u001b[1m88/88\u001b[0m \u001b[32m━━━━━━━━━━━━━━━━━━━━\u001b[0m\u001b[37m\u001b[0m \u001b[1m3s\u001b[0m 38ms/step - accuracy: 0.8016 - loss: 0.5474 - val_accuracy: 0.7900 - val_loss: 0.6315\n",
            "Epoch 40/50\n",
            "\u001b[1m88/88\u001b[0m \u001b[32m━━━━━━━━━━━━━━━━━━━━\u001b[0m\u001b[37m\u001b[0m \u001b[1m3s\u001b[0m 38ms/step - accuracy: 0.8026 - loss: 0.5435 - val_accuracy: 0.7894 - val_loss: 0.6306\n",
            "Epoch 41/50\n",
            "\u001b[1m88/88\u001b[0m \u001b[32m━━━━━━━━━━━━━━━━━━━━\u001b[0m\u001b[37m\u001b[0m \u001b[1m3s\u001b[0m 38ms/step - accuracy: 0.8063 - loss: 0.5331 - val_accuracy: 0.7926 - val_loss: 0.6298\n",
            "Epoch 42/50\n",
            "\u001b[1m88/88\u001b[0m \u001b[32m━━━━━━━━━━━━━━━━━━━━\u001b[0m\u001b[37m\u001b[0m \u001b[1m3s\u001b[0m 38ms/step - accuracy: 0.8123 - loss: 0.5173 - val_accuracy: 0.7898 - val_loss: 0.6346\n",
            "Epoch 43/50\n",
            "\u001b[1m88/88\u001b[0m \u001b[32m━━━━━━━━━━━━━━━━━━━━\u001b[0m\u001b[37m\u001b[0m \u001b[1m3s\u001b[0m 38ms/step - accuracy: 0.8040 - loss: 0.5291 - val_accuracy: 0.7914 - val_loss: 0.6364\n",
            "Epoch 44/50\n",
            "\u001b[1m88/88\u001b[0m \u001b[32m━━━━━━━━━━━━━━━━━━━━\u001b[0m\u001b[37m\u001b[0m \u001b[1m3s\u001b[0m 38ms/step - accuracy: 0.8137 - loss: 0.5178 - val_accuracy: 0.7906 - val_loss: 0.6369\n",
            "Epoch 45/50\n",
            "\u001b[1m88/88\u001b[0m \u001b[32m━━━━━━━━━━━━━━━━━━━━\u001b[0m\u001b[37m\u001b[0m \u001b[1m3s\u001b[0m 38ms/step - accuracy: 0.8175 - loss: 0.4997 - val_accuracy: 0.7920 - val_loss: 0.6339\n",
            "Epoch 46/50\n",
            "\u001b[1m88/88\u001b[0m \u001b[32m━━━━━━━━━━━━━━━━━━━━\u001b[0m\u001b[37m\u001b[0m \u001b[1m3s\u001b[0m 38ms/step - accuracy: 0.8151 - loss: 0.5044 - val_accuracy: 0.7966 - val_loss: 0.6445\n",
            "Epoch 47/50\n",
            "\u001b[1m88/88\u001b[0m \u001b[32m━━━━━━━━━━━━━━━━━━━━\u001b[0m\u001b[37m\u001b[0m \u001b[1m3s\u001b[0m 38ms/step - accuracy: 0.8234 - loss: 0.4846 - val_accuracy: 0.7892 - val_loss: 0.6364\n",
            "Epoch 48/50\n",
            "\u001b[1m88/88\u001b[0m \u001b[32m━━━━━━━━━━━━━━━━━━━━\u001b[0m\u001b[37m\u001b[0m \u001b[1m3s\u001b[0m 38ms/step - accuracy: 0.8234 - loss: 0.4857 - val_accuracy: 0.7920 - val_loss: 0.6434\n",
            "Epoch 49/50\n",
            "\u001b[1m88/88\u001b[0m \u001b[32m━━━━━━━━━━━━━━━━━━━━\u001b[0m\u001b[37m\u001b[0m \u001b[1m3s\u001b[0m 38ms/step - accuracy: 0.8210 - loss: 0.4889 - val_accuracy: 0.7844 - val_loss: 0.6475\n",
            "Epoch 50/50\n",
            "\u001b[1m88/88\u001b[0m \u001b[32m━━━━━━━━━━━━━━━━━━━━\u001b[0m\u001b[37m\u001b[0m \u001b[1m3s\u001b[0m 38ms/step - accuracy: 0.8242 - loss: 0.4860 - val_accuracy: 0.7960 - val_loss: 0.6397\n",
            "\u001b[1m313/313\u001b[0m \u001b[32m━━━━━━━━━━━━━━━━━━━━\u001b[0m\u001b[37m\u001b[0m \u001b[1m1s\u001b[0m 3ms/step - accuracy: 0.7873 - loss: 0.6793\n",
            "M4 Test accuracy: 0.7818999886512756\n",
            "\u001b[1m313/313\u001b[0m \u001b[32m━━━━━━━━━━━━━━━━━━━━\u001b[0m\u001b[37m\u001b[0m \u001b[1m1s\u001b[0m 3ms/step\n"
          ]
        },
        {
          "output_type": "execute_result",
          "data": {
            "text/plain": [
              "array([[838,  16,  69,  24,  19,  14,   4,  17,  35,  32],\n",
              "       [  9, 878,   4,   4,   0,   2,   4,   1,  19,  60],\n",
              "       [ 27,   2, 627,  49,  46,  33,  33,  25,   5,   4],\n",
              "       [ 16,   7,  48, 605,  45, 171,  54,  24,   5,   4],\n",
              "       [ 10,   4, 104,  67, 788,  54,  60,  51,   3,   6],\n",
              "       [  0,   3,  44, 142,  19, 653,  10,  35,   2,   2],\n",
              "       [  7,   5,  51,  46,  21,  14, 815,   2,   4,   2],\n",
              "       [  6,   0,  26,  28,  46,  42,   4, 837,   1,   6],\n",
              "       [ 60,  29,  20,  21,  13,  11,  10,   2, 914,  20],\n",
              "       [ 27,  56,   7,  14,   3,   6,   6,   6,  12, 864]])"
            ]
          },
          "metadata": {},
          "execution_count": 24
        }
      ],
      "source": [
        "\n",
        "clear_session()\n",
        "\n",
        "(x_train, y_train), (x_test, y_test) = cifar10.load_data()\n",
        "\n",
        "y_train = to_categorical(y_train, num_classes=10)\n",
        "y_test = to_categorical(y_test, num_classes=10)\n",
        "\n",
        "x_train = (x_train/255).astype(float)\n",
        "x_test = (x_test/255).astype(float)\n",
        "\n",
        "\n",
        "m4 = Sequential()\n",
        "m4.add(Conv2D(32, (3,3), activation='relu', padding='same', input_shape=(32,32,3)))\n",
        "m4.add(Conv2D(32, (3,3), activation='relu', padding='same'))\n",
        "m4.add(MaxPooling2D((2,2)))\n",
        "m4.add(Dropout(0.2))\n",
        "\n",
        "m4.add(Conv2D(64, (3,3), activation='relu', padding='same'))\n",
        "m4.add(Conv2D(64, (3,3), activation='relu', padding='same'))\n",
        "m4.add(MaxPooling2D((2,2)))\n",
        "m4.add(Dropout(0.2))\n",
        "\n",
        "m4.add(Flatten())\n",
        "m4.add(Dense(128, activation='relu'))\n",
        "m4.add(Dropout(0.5))\n",
        "m4.add(Dense(10, activation='softmax'))\n",
        "\n",
        "\n",
        "\n",
        "\n",
        "#opt = SGD(learning_rate=0.01, momentum=0.9, nesterov=True)\n",
        "opt = Adam(learning_rate=0.001, beta_1=0.9, beta_2=0.999)\n",
        "\n",
        "m4.compile(optimizer=opt,\n",
        "              loss='categorical_crossentropy',\n",
        "              metrics=['accuracy'])\n",
        "\n",
        "m4_history = m4.fit(x_train,\n",
        "                    y_train,\n",
        "                    batch_size=512,\n",
        "                    epochs=50,\n",
        "                    validation_split=0.1)\n",
        "\n",
        "\n",
        "test_loss, test_acc = m4.evaluate(x_test, y_test)\n",
        "print('M4 Test accuracy:', test_acc)\n",
        "\n",
        "m4_pred = m4.predict(x_test)\n",
        "m4_pred = np.argmax(m4_pred, axis=1)\n",
        "y_true = np.argmax(y_test, axis=1)\n",
        "\n",
        "confusion_matrix(m4_pred, y_true)"
      ]
    },
    {
      "cell_type": "markdown",
      "metadata": {
        "id": "wU23l15qrOH6"
      },
      "source": [
        "## M5 - 67% test acc\n",
        "\n",
        "- Transfer Learning with VGG16\n",
        "- Dense(256)\n",
        "- Dropout"
      ]
    },
    {
      "cell_type": "code",
      "execution_count": 9,
      "metadata": {
        "colab": {
          "base_uri": "https://localhost:8080/"
        },
        "id": "QoFsURUnrR2k",
        "outputId": "5cae38f4-3f71-4f4d-ee18-42615a1db651",
        "collapsed": true
      },
      "outputs": [
        {
          "output_type": "stream",
          "name": "stdout",
          "text": [
            "Epoch 1/20\n",
            "\u001b[1m704/704\u001b[0m \u001b[32m━━━━━━━━━━━━━━━━━━━━\u001b[0m\u001b[37m\u001b[0m \u001b[1m31s\u001b[0m 42ms/step - accuracy: 0.2809 - loss: 2.0353 - val_accuracy: 0.5322 - val_loss: 1.4289\n",
            "Epoch 2/20\n",
            "\u001b[1m704/704\u001b[0m \u001b[32m━━━━━━━━━━━━━━━━━━━━\u001b[0m\u001b[37m\u001b[0m \u001b[1m27s\u001b[0m 39ms/step - accuracy: 0.4803 - loss: 1.5024 - val_accuracy: 0.5722 - val_loss: 1.2744\n",
            "Epoch 3/20\n",
            "\u001b[1m704/704\u001b[0m \u001b[32m━━━━━━━━━━━━━━━━━━━━\u001b[0m\u001b[37m\u001b[0m \u001b[1m27s\u001b[0m 38ms/step - accuracy: 0.5347 - loss: 1.3514 - val_accuracy: 0.5982 - val_loss: 1.1847\n",
            "Epoch 4/20\n",
            "\u001b[1m704/704\u001b[0m \u001b[32m━━━━━━━━━━━━━━━━━━━━\u001b[0m\u001b[37m\u001b[0m \u001b[1m27s\u001b[0m 38ms/step - accuracy: 0.5586 - loss: 1.2774 - val_accuracy: 0.6160 - val_loss: 1.1387\n",
            "Epoch 5/20\n",
            "\u001b[1m704/704\u001b[0m \u001b[32m━━━━━━━━━━━━━━━━━━━━\u001b[0m\u001b[37m\u001b[0m \u001b[1m27s\u001b[0m 38ms/step - accuracy: 0.5800 - loss: 1.2221 - val_accuracy: 0.6278 - val_loss: 1.0945\n",
            "Epoch 6/20\n",
            "\u001b[1m704/704\u001b[0m \u001b[32m━━━━━━━━━━━━━━━━━━━━\u001b[0m\u001b[37m\u001b[0m \u001b[1m27s\u001b[0m 38ms/step - accuracy: 0.5960 - loss: 1.1768 - val_accuracy: 0.6328 - val_loss: 1.0777\n",
            "Epoch 7/20\n",
            "\u001b[1m704/704\u001b[0m \u001b[32m━━━━━━━━━━━━━━━━━━━━\u001b[0m\u001b[37m\u001b[0m \u001b[1m27s\u001b[0m 38ms/step - accuracy: 0.6015 - loss: 1.1495 - val_accuracy: 0.6320 - val_loss: 1.0535\n",
            "Epoch 8/20\n",
            "\u001b[1m704/704\u001b[0m \u001b[32m━━━━━━━━━━━━━━━━━━━━\u001b[0m\u001b[37m\u001b[0m \u001b[1m27s\u001b[0m 38ms/step - accuracy: 0.6086 - loss: 1.1323 - val_accuracy: 0.6466 - val_loss: 1.0178\n",
            "Epoch 9/20\n",
            "\u001b[1m704/704\u001b[0m \u001b[32m━━━━━━━━━━━━━━━━━━━━\u001b[0m\u001b[37m\u001b[0m \u001b[1m27s\u001b[0m 38ms/step - accuracy: 0.6096 - loss: 1.1151 - val_accuracy: 0.6530 - val_loss: 1.0056\n",
            "Epoch 10/20\n",
            "\u001b[1m704/704\u001b[0m \u001b[32m━━━━━━━━━━━━━━━━━━━━\u001b[0m\u001b[37m\u001b[0m \u001b[1m27s\u001b[0m 38ms/step - accuracy: 0.6258 - loss: 1.0820 - val_accuracy: 0.6612 - val_loss: 0.9903\n",
            "Epoch 11/20\n",
            "\u001b[1m704/704\u001b[0m \u001b[32m━━━━━━━━━━━━━━━━━━━━\u001b[0m\u001b[37m\u001b[0m \u001b[1m27s\u001b[0m 38ms/step - accuracy: 0.6250 - loss: 1.0739 - val_accuracy: 0.6562 - val_loss: 0.9847\n",
            "Epoch 12/20\n",
            "\u001b[1m704/704\u001b[0m \u001b[32m━━━━━━━━━━━━━━━━━━━━\u001b[0m\u001b[37m\u001b[0m \u001b[1m27s\u001b[0m 38ms/step - accuracy: 0.6346 - loss: 1.0561 - val_accuracy: 0.6660 - val_loss: 0.9667\n",
            "Epoch 13/20\n",
            "\u001b[1m704/704\u001b[0m \u001b[32m━━━━━━━━━━━━━━━━━━━━\u001b[0m\u001b[37m\u001b[0m \u001b[1m27s\u001b[0m 38ms/step - accuracy: 0.6377 - loss: 1.0394 - val_accuracy: 0.6762 - val_loss: 0.9540\n",
            "Epoch 14/20\n",
            "\u001b[1m704/704\u001b[0m \u001b[32m━━━━━━━━━━━━━━━━━━━━\u001b[0m\u001b[37m\u001b[0m \u001b[1m27s\u001b[0m 38ms/step - accuracy: 0.6417 - loss: 1.0371 - val_accuracy: 0.6656 - val_loss: 0.9529\n",
            "Epoch 15/20\n",
            "\u001b[1m704/704\u001b[0m \u001b[32m━━━━━━━━━━━━━━━━━━━━\u001b[0m\u001b[37m\u001b[0m \u001b[1m27s\u001b[0m 38ms/step - accuracy: 0.6465 - loss: 1.0282 - val_accuracy: 0.6820 - val_loss: 0.9390\n",
            "Epoch 16/20\n",
            "\u001b[1m704/704\u001b[0m \u001b[32m━━━━━━━━━━━━━━━━━━━━\u001b[0m\u001b[37m\u001b[0m \u001b[1m27s\u001b[0m 38ms/step - accuracy: 0.6480 - loss: 1.0090 - val_accuracy: 0.6676 - val_loss: 0.9480\n",
            "Epoch 17/20\n",
            "\u001b[1m704/704\u001b[0m \u001b[32m━━━━━━━━━━━━━━━━━━━━\u001b[0m\u001b[37m\u001b[0m \u001b[1m27s\u001b[0m 38ms/step - accuracy: 0.6518 - loss: 0.9964 - val_accuracy: 0.6798 - val_loss: 0.9412\n",
            "Epoch 18/20\n",
            "\u001b[1m704/704\u001b[0m \u001b[32m━━━━━━━━━━━━━━━━━━━━\u001b[0m\u001b[37m\u001b[0m \u001b[1m27s\u001b[0m 38ms/step - accuracy: 0.6551 - loss: 0.9918 - val_accuracy: 0.6778 - val_loss: 0.9275\n",
            "Epoch 19/20\n",
            "\u001b[1m704/704\u001b[0m \u001b[32m━━━━━━━━━━━━━━━━━━━━\u001b[0m\u001b[37m\u001b[0m \u001b[1m27s\u001b[0m 38ms/step - accuracy: 0.6611 - loss: 0.9781 - val_accuracy: 0.6860 - val_loss: 0.9114\n",
            "Epoch 20/20\n",
            "\u001b[1m704/704\u001b[0m \u001b[32m━━━━━━━━━━━━━━━━━━━━\u001b[0m\u001b[37m\u001b[0m \u001b[1m27s\u001b[0m 38ms/step - accuracy: 0.6594 - loss: 0.9777 - val_accuracy: 0.6810 - val_loss: 0.9161\n",
            "\u001b[1m313/313\u001b[0m \u001b[32m━━━━━━━━━━━━━━━━━━━━\u001b[0m\u001b[37m\u001b[0m \u001b[1m7s\u001b[0m 20ms/step - accuracy: 0.6707 - loss: 0.9384\n",
            "M5 Test accuracy: 0.6722999811172485\n",
            "\u001b[1m313/313\u001b[0m \u001b[32m━━━━━━━━━━━━━━━━━━━━\u001b[0m\u001b[37m\u001b[0m \u001b[1m7s\u001b[0m 20ms/step\n"
          ]
        },
        {
          "output_type": "execute_result",
          "data": {
            "text/plain": [
              "array([[743,  27,  72,  32,  24,  10,   9,  12,  80,  47],\n",
              "       [ 15, 760,   8,  27,   9,  13,  13,   8,  32,  81],\n",
              "       [ 75,   8, 658, 111, 132,  89,  97,  64,  30,   9],\n",
              "       [ 17,  20,  50, 481,  71, 164,  62,  42,  18,  30],\n",
              "       [ 14,   2,  62,  29, 524,  31,  35,  47,   6,   6],\n",
              "       [  3,  13,  41, 133,  35, 557,  36,  62,   3,   9],\n",
              "       [ 10,  17,  80, 105,  95,  49, 731,  14,   8,   8],\n",
              "       [ 18,  10,  21,  38,  79,  66,   4, 721,   6,  15],\n",
              "       [ 73,  38,   6,  13,  18,   6,   7,  11, 794,  41],\n",
              "       [ 32, 105,   2,  31,  13,  15,   6,  19,  23, 754]])"
            ]
          },
          "metadata": {},
          "execution_count": 9
        }
      ],
      "source": [
        "clear_session()\n",
        "(x_train, y_train), (x_test, y_test) = cifar10.load_data()\n",
        "\n",
        "y_train = to_categorical(y_train, num_classes=10)\n",
        "y_test = to_categorical(y_test, num_classes=10)\n",
        "\n",
        "\n",
        "x_train_resized = tf.image.resize(x_train, (64, 64))\n",
        "x_test_resized = tf.image.resize(x_test, (64, 64))\n",
        "\n",
        "x_train_resized = tf.cast(x_train_resized, tf.float32) / 255.0\n",
        "x_test_resized = tf.cast(x_test_resized, tf.float32) / 255.0\n",
        "\n",
        "\n",
        "base_model = VGG16(\n",
        "    include_top=False,\n",
        "    weights='imagenet',\n",
        "    input_shape=(64, 64, 3)   # instead of 224x224\n",
        ")\n",
        "\n",
        "for layer in base_model.layers:\n",
        "    layer.trainable = False\n",
        "\n",
        "\n",
        "m5 = Sequential()\n",
        "m5.add(base_model)\n",
        "m5.add(Flatten())\n",
        "m5.add(Dense(256, activation='relu'))\n",
        "m5.add(Dropout(0.5))\n",
        "m5.add(Dense(10, activation='softmax'))\n",
        "\n",
        "\n",
        "opt = SGD(learning_rate=0.001, momentum=0.9, nesterov=True)\n",
        "\n",
        "m5.compile(\n",
        "    optimizer=opt,\n",
        "    loss='categorical_crossentropy',\n",
        "    metrics=['accuracy'],\n",
        ")\n",
        "\n",
        "\n",
        "m5_history = m5.fit(\n",
        "    x_train_resized, y_train,\n",
        "    batch_size=64,\n",
        "    epochs=20,\n",
        "    validation_split=0.1\n",
        ")\n",
        "\n",
        "\n",
        "test_loss, test_acc = m5.evaluate(x_test_resized, y_test)\n",
        "print('M5 Test accuracy:', test_acc)\n",
        "\n",
        "m5_pred = m5.predict(x_test_resized)\n",
        "m5_pred = np.argmax(m5_pred, axis=1)\n",
        "y_true = np.argmax(y_test, axis=1)\n",
        "\n",
        "confusion_matrix(m5_pred, y_true)"
      ]
    },
    {
      "cell_type": "markdown",
      "source": [
        "## M6"
      ],
      "metadata": {
        "id": "KzG2AJIcOOll"
      }
    },
    {
      "cell_type": "code",
      "source": [
        "clear_session()\n",
        "\n",
        "num_classes = 10\n",
        "#input_shape = (32, 32, 3)\n",
        "from tensorflow.keras.layers import RandomContrast,RandomFlip,RandomRotation,BatchNormalization\n",
        "\n",
        "m6 = Sequential()\n",
        "m6.add(RandomContrast(factor=0.10, input_shape=(32, 32, 3)))\n",
        "m6.add(RandomFlip(mode='horizontal'))\n",
        "m6.add(RandomRotation(factor=0.10))\n",
        "#m6.add(BatchNormalization())\n",
        "\n",
        "m6.add(Conv2D(64, kernel_size=(3, 3), activation=\"relu\", padding='same'))\n",
        "m6.add(Conv2D(64, kernel_size=(3, 3), activation=\"relu\", padding='same'))\n",
        "m6.add(MaxPooling2D(pool_size=(2, 2)))\n",
        "m6.add(BatchNormalization())\n",
        "\n",
        "m6.add(Conv2D(128, kernel_size=(3, 3), activation=\"relu\", padding='same'))\n",
        "m6.add(Conv2D(128, kernel_size=(3, 3), activation=\"relu\", padding='same'))\n",
        "m6.add(MaxPooling2D(pool_size=(2, 2)))\n",
        "m6.add(BatchNormalization())\n",
        "\n",
        "m6.add(Conv2D(256, kernel_size=(3, 3), activation=\"relu\", padding='same'))\n",
        "m6.add(Conv2D(256, kernel_size=(3, 3), activation=\"relu\", padding='same'))\n",
        "m6.add(MaxPooling2D(pool_size=(2, 2)))\n",
        "m6.add(BatchNormalization())\n",
        "\n",
        "m6.add(Flatten())\n",
        "m6.add(Dense(128, activation='relu'))\n",
        "m6.add(Dropout(0.5))\n",
        "m6.add(Dense(num_classes, activation=\"softmax\"))\n",
        "\n",
        "\n",
        "m6.compile(loss='categorical_crossentropy',\n",
        "              optimizer='Adam',\n",
        "           metrics=['accuracy'])\n",
        "\n",
        "m6_history = m6.fit(x_train,\n",
        "                  y_train,\n",
        "                  batch_size=512,\n",
        "                  epochs=25,\n",
        "                  verbose=1,\n",
        "                  validation_split=0.1)"
      ],
      "metadata": {
        "id": "W--RCQcwOOvu",
        "outputId": "6ffd43ed-9659-492d-967f-86ecb929c530",
        "colab": {
          "base_uri": "https://localhost:8080/"
        }
      },
      "execution_count": 4,
      "outputs": [
        {
          "output_type": "stream",
          "name": "stdout",
          "text": [
            "Epoch 1/25\n",
            "\u001b[1m88/88\u001b[0m \u001b[32m━━━━━━━━━━━━━━━━━━━━\u001b[0m\u001b[37m\u001b[0m \u001b[1m21s\u001b[0m 142ms/step - accuracy: 0.2908 - loss: 2.0808 - val_accuracy: 0.0978 - val_loss: 2.4152\n",
            "Epoch 2/25\n",
            "\u001b[1m88/88\u001b[0m \u001b[32m━━━━━━━━━━━━━━━━━━━━\u001b[0m\u001b[37m\u001b[0m \u001b[1m9s\u001b[0m 100ms/step - accuracy: 0.4593 - loss: 1.5100 - val_accuracy: 0.0976 - val_loss: 6.9708\n",
            "Epoch 3/25\n",
            "\u001b[1m88/88\u001b[0m \u001b[32m━━━━━━━━━━━━━━━━━━━━\u001b[0m\u001b[37m\u001b[0m \u001b[1m9s\u001b[0m 100ms/step - accuracy: 0.5393 - loss: 1.3022 - val_accuracy: 0.0976 - val_loss: 8.7559\n",
            "Epoch 4/25\n",
            "\u001b[1m88/88\u001b[0m \u001b[32m━━━━━━━━━━━━━━━━━━━━\u001b[0m\u001b[37m\u001b[0m \u001b[1m9s\u001b[0m 99ms/step - accuracy: 0.6012 - loss: 1.1363 - val_accuracy: 0.0980 - val_loss: 9.4302\n",
            "Epoch 5/25\n",
            "\u001b[1m88/88\u001b[0m \u001b[32m━━━━━━━━━━━━━━━━━━━━\u001b[0m\u001b[37m\u001b[0m \u001b[1m9s\u001b[0m 99ms/step - accuracy: 0.6454 - loss: 1.0342 - val_accuracy: 0.1206 - val_loss: 6.2793\n",
            "Epoch 6/25\n",
            "\u001b[1m88/88\u001b[0m \u001b[32m━━━━━━━━━━━━━━━━━━━━\u001b[0m\u001b[37m\u001b[0m \u001b[1m9s\u001b[0m 98ms/step - accuracy: 0.6772 - loss: 0.9435 - val_accuracy: 0.2682 - val_loss: 3.4215\n",
            "Epoch 7/25\n",
            "\u001b[1m88/88\u001b[0m \u001b[32m━━━━━━━━━━━━━━━━━━━━\u001b[0m\u001b[37m\u001b[0m \u001b[1m9s\u001b[0m 98ms/step - accuracy: 0.7026 - loss: 0.8784 - val_accuracy: 0.4944 - val_loss: 1.7805\n",
            "Epoch 8/25\n",
            "\u001b[1m88/88\u001b[0m \u001b[32m━━━━━━━━━━━━━━━━━━━━\u001b[0m\u001b[37m\u001b[0m \u001b[1m9s\u001b[0m 97ms/step - accuracy: 0.7181 - loss: 0.8226 - val_accuracy: 0.7128 - val_loss: 0.8516\n",
            "Epoch 9/25\n",
            "\u001b[1m88/88\u001b[0m \u001b[32m━━━━━━━━━━━━━━━━━━━━\u001b[0m\u001b[37m\u001b[0m \u001b[1m9s\u001b[0m 98ms/step - accuracy: 0.7405 - loss: 0.7685 - val_accuracy: 0.6788 - val_loss: 1.0905\n",
            "Epoch 10/25\n",
            "\u001b[1m88/88\u001b[0m \u001b[32m━━━━━━━━━━━━━━━━━━━━\u001b[0m\u001b[37m\u001b[0m \u001b[1m9s\u001b[0m 98ms/step - accuracy: 0.7608 - loss: 0.7122 - val_accuracy: 0.7474 - val_loss: 0.7373\n",
            "Epoch 11/25\n",
            "\u001b[1m88/88\u001b[0m \u001b[32m━━━━━━━━━━━━━━━━━━━━\u001b[0m\u001b[37m\u001b[0m \u001b[1m9s\u001b[0m 99ms/step - accuracy: 0.7695 - loss: 0.6796 - val_accuracy: 0.7660 - val_loss: 0.7296\n",
            "Epoch 12/25\n",
            "\u001b[1m88/88\u001b[0m \u001b[32m━━━━━━━━━━━━━━━━━━━━\u001b[0m\u001b[37m\u001b[0m \u001b[1m9s\u001b[0m 98ms/step - accuracy: 0.7812 - loss: 0.6442 - val_accuracy: 0.7910 - val_loss: 0.6136\n",
            "Epoch 13/25\n",
            "\u001b[1m88/88\u001b[0m \u001b[32m━━━━━━━━━━━━━━━━━━━━\u001b[0m\u001b[37m\u001b[0m \u001b[1m9s\u001b[0m 99ms/step - accuracy: 0.7942 - loss: 0.6097 - val_accuracy: 0.7740 - val_loss: 0.6885\n",
            "Epoch 14/25\n",
            "\u001b[1m88/88\u001b[0m \u001b[32m━━━━━━━━━━━━━━━━━━━━\u001b[0m\u001b[37m\u001b[0m \u001b[1m9s\u001b[0m 99ms/step - accuracy: 0.8068 - loss: 0.5757 - val_accuracy: 0.7864 - val_loss: 0.6663\n",
            "Epoch 15/25\n",
            "\u001b[1m88/88\u001b[0m \u001b[32m━━━━━━━━━━━━━━━━━━━━\u001b[0m\u001b[37m\u001b[0m \u001b[1m9s\u001b[0m 98ms/step - accuracy: 0.8113 - loss: 0.5543 - val_accuracy: 0.7962 - val_loss: 0.6150\n",
            "Epoch 16/25\n",
            "\u001b[1m88/88\u001b[0m \u001b[32m━━━━━━━━━━━━━━━━━━━━\u001b[0m\u001b[37m\u001b[0m \u001b[1m9s\u001b[0m 98ms/step - accuracy: 0.8220 - loss: 0.5310 - val_accuracy: 0.7716 - val_loss: 0.6605\n",
            "Epoch 17/25\n",
            "\u001b[1m88/88\u001b[0m \u001b[32m━━━━━━━━━━━━━━━━━━━━\u001b[0m\u001b[37m\u001b[0m \u001b[1m9s\u001b[0m 98ms/step - accuracy: 0.8291 - loss: 0.5051 - val_accuracy: 0.8092 - val_loss: 0.6088\n",
            "Epoch 18/25\n",
            "\u001b[1m88/88\u001b[0m \u001b[32m━━━━━━━━━━━━━━━━━━━━\u001b[0m\u001b[37m\u001b[0m \u001b[1m9s\u001b[0m 98ms/step - accuracy: 0.8387 - loss: 0.4847 - val_accuracy: 0.8078 - val_loss: 0.6048\n",
            "Epoch 19/25\n",
            "\u001b[1m88/88\u001b[0m \u001b[32m━━━━━━━━━━━━━━━━━━━━\u001b[0m\u001b[37m\u001b[0m \u001b[1m9s\u001b[0m 98ms/step - accuracy: 0.8447 - loss: 0.4573 - val_accuracy: 0.8376 - val_loss: 0.4956\n",
            "Epoch 20/25\n",
            "\u001b[1m88/88\u001b[0m \u001b[32m━━━━━━━━━━━━━━━━━━━━\u001b[0m\u001b[37m\u001b[0m \u001b[1m9s\u001b[0m 98ms/step - accuracy: 0.8548 - loss: 0.4369 - val_accuracy: 0.7716 - val_loss: 0.8030\n",
            "Epoch 21/25\n",
            "\u001b[1m88/88\u001b[0m \u001b[32m━━━━━━━━━━━━━━━━━━━━\u001b[0m\u001b[37m\u001b[0m \u001b[1m9s\u001b[0m 98ms/step - accuracy: 0.8571 - loss: 0.4222 - val_accuracy: 0.8148 - val_loss: 0.6041\n",
            "Epoch 22/25\n",
            "\u001b[1m88/88\u001b[0m \u001b[32m━━━━━━━━━━━━━━━━━━━━\u001b[0m\u001b[37m\u001b[0m \u001b[1m9s\u001b[0m 98ms/step - accuracy: 0.8639 - loss: 0.4003 - val_accuracy: 0.8368 - val_loss: 0.4952\n",
            "Epoch 23/25\n",
            "\u001b[1m88/88\u001b[0m \u001b[32m━━━━━━━━━━━━━━━━━━━━\u001b[0m\u001b[37m\u001b[0m \u001b[1m9s\u001b[0m 98ms/step - accuracy: 0.8655 - loss: 0.3960 - val_accuracy: 0.8112 - val_loss: 0.5970\n",
            "Epoch 24/25\n",
            "\u001b[1m88/88\u001b[0m \u001b[32m━━━━━━━━━━━━━━━━━━━━\u001b[0m\u001b[37m\u001b[0m \u001b[1m9s\u001b[0m 98ms/step - accuracy: 0.8741 - loss: 0.3743 - val_accuracy: 0.8102 - val_loss: 0.6145\n",
            "Epoch 25/25\n",
            "\u001b[1m88/88\u001b[0m \u001b[32m━━━━━━━━━━━━━━━━━━━━\u001b[0m\u001b[37m\u001b[0m \u001b[1m9s\u001b[0m 98ms/step - accuracy: 0.8732 - loss: 0.3731 - val_accuracy: 0.8318 - val_loss: 0.5250\n"
          ]
        }
      ]
    },
    {
      "cell_type": "code",
      "source": [
        "test_loss, test_acc = m6.evaluate(x_test, y_test)\n",
        "print('M6 Test accuracy:', test_acc)\n",
        "\n",
        "m6_pred = m6.predict(x_test)\n",
        "m6_pred = np.argmax(m6_pred, axis=1)\n",
        "y_true = np.argmax(y_test, axis=1)\n",
        "\n",
        "confusion_matrix(m6_pred, y_true)"
      ],
      "metadata": {
        "id": "90I0Oe46eFTx",
        "outputId": "f8d3afdf-e8c1-4d0a-e741-4643c03f6f4b",
        "colab": {
          "base_uri": "https://localhost:8080/"
        }
      },
      "execution_count": 5,
      "outputs": [
        {
          "output_type": "stream",
          "name": "stdout",
          "text": [
            "\u001b[1m313/313\u001b[0m \u001b[32m━━━━━━━━━━━━━━━━━━━━\u001b[0m\u001b[37m\u001b[0m \u001b[1m2s\u001b[0m 4ms/step - accuracy: 0.8297 - loss: 0.5560\n",
            "M6 Test accuracy: 0.824999988079071\n",
            "\u001b[1m313/313\u001b[0m \u001b[32m━━━━━━━━━━━━━━━━━━━━\u001b[0m\u001b[37m\u001b[0m \u001b[1m1s\u001b[0m 3ms/step\n"
          ]
        },
        {
          "output_type": "execute_result",
          "data": {
            "text/plain": [
              "array([[840,  11,  39,  17,  10,   2,   6,  10,  76,  20],\n",
              "       [ 16, 939,   2,   1,   0,   3,   1,   0,  17,  60],\n",
              "       [ 48,   2, 837,  87,  72,  65,  22,  33,  15,   7],\n",
              "       [ 21,   4,   8, 598,  11,  90,   8,  14,   9,   3],\n",
              "       [ 14,   1,  34,  77, 837,  49,  11,  82,  12,   8],\n",
              "       [  1,   0,  12,  72,   3, 727,   3,  22,   2,   1],\n",
              "       [ 12,   6,  55, 120,  54,  44, 941,  18,  10,  13],\n",
              "       [  9,   1,  11,  15,  10,  15,   3, 815,   4,   8],\n",
              "       [ 17,   7,   0,   9,   1,   1,   1,   3, 842,   6],\n",
              "       [ 22,  29,   2,   4,   2,   4,   4,   3,  13, 874]])"
            ]
          },
          "metadata": {},
          "execution_count": 5
        }
      ]
    },
    {
      "cell_type": "markdown",
      "source": [
        "## M7"
      ],
      "metadata": {
        "id": "uFcIo0j0nXnb"
      }
    },
    {
      "cell_type": "code",
      "source": [
        "import tensorflow as tf\n",
        "from tensorflow.keras.applications import MobileNetV2\n",
        "from tensorflow.keras.models import Sequential\n",
        "from tensorflow.keras.layers import Dense, Dropout, GlobalAveragePooling2D\n",
        "from tensorflow.keras.optimizers import Adam\n",
        "from tensorflow.keras.utils import to_categorical\n",
        "from tensorflow.keras.preprocessing.image import ImageDataGenerator\n",
        "\n",
        "clear_session()\n",
        "# --- Load CIFAR-10 ---\n",
        "(x_train, y_train), (x_test, y_test) = tf.keras.datasets.cifar10.load_data()\n",
        "\n",
        "# One-hot encode labels\n",
        "y_train = to_categorical(y_train, 10)\n",
        "y_test = to_categorical(y_test, 10)\n",
        "\n",
        "# --- Resize & Normalize ---\n",
        "x_train_resized = tf.image.resize(x_train, (96, 96))\n",
        "x_test_resized = tf.image.resize(x_test, (96, 96))\n",
        "x_train_resized = tf.cast(x_train_resized, tf.float32) / 255.0\n",
        "x_test_resized = tf.cast(x_test_resized, tf.float32) / 255.0\n",
        "\n",
        "# --- Base model: MobileNetV2 ---\n",
        "base_model = MobileNetV2(\n",
        "    include_top=False,\n",
        "    weights='imagenet',\n",
        "    input_shape=(96, 96, 3)\n",
        ")\n",
        "\n",
        "# Freeze base model to start\n",
        "base_model.trainable = False\n",
        "\n",
        "# --- Build the full model ---\n",
        "model = Sequential([\n",
        "    base_model,\n",
        "    GlobalAveragePooling2D(),\n",
        "    Dropout(0.3),\n",
        "    Dense(128, activation='relu'),\n",
        "    Dropout(0.3),\n",
        "    Dense(10, activation='softmax')\n",
        "])\n",
        "\n",
        "# --- Compile ---\n",
        "model.compile(\n",
        "    optimizer=Adam(learning_rate=1e-3),\n",
        "    loss='categorical_crossentropy',\n",
        "    metrics=['accuracy']\n",
        ")\n",
        "\n",
        "# --- Optional: Data Augmentation ---\n",
        "datagen = ImageDataGenerator(\n",
        "    rotation_range=15,\n",
        "    width_shift_range=0.1,\n",
        "    height_shift_range=0.1,\n",
        "    horizontal_flip=True\n",
        ")\n",
        "datagen.fit(x_train_resized)\n",
        "\n",
        "# --- Train ---\n",
        "history = model.fit(\n",
        "    datagen.flow(x_train_resized, y_train, batch_size=64),\n",
        "    epochs=10,\n",
        "    validation_data=(x_test_resized, y_test)\n",
        ")\n",
        "\n",
        "# --- Fine-tune (optional, after initial training) ---\n",
        "# Unfreeze the last few layers for deeper adaptation\n",
        "base_model.trainable = True\n",
        "for layer in base_model.layers[:-20]:\n",
        "    layer.trainable = False\n",
        "\n",
        "model.compile(\n",
        "    optimizer=Adam(learning_rate=1e-4),\n",
        "    loss='categorical_crossentropy',\n",
        "    metrics=['accuracy']\n",
        ")\n",
        "\n",
        "history_finetune = model.fit(\n",
        "    datagen.flow(x_train_resized, y_train, batch_size=64),\n",
        "    epochs=10,\n",
        "    validation_data=(x_test_resized, y_test)\n",
        ")\n"
      ],
      "metadata": {
        "id": "EvelzWyFkMES",
        "outputId": "57dfe164-64fc-4250-da5d-2b8193bc5597",
        "colab": {
          "base_uri": "https://localhost:8080/"
        }
      },
      "execution_count": null,
      "outputs": [
        {
          "output_type": "stream",
          "name": "stdout",
          "text": [
            "Downloading data from https://storage.googleapis.com/tensorflow/keras-applications/mobilenet_v2/mobilenet_v2_weights_tf_dim_ordering_tf_kernels_1.0_96_no_top.h5\n",
            "\u001b[1m9406464/9406464\u001b[0m \u001b[32m━━━━━━━━━━━━━━━━━━━━\u001b[0m\u001b[37m\u001b[0m \u001b[1m1s\u001b[0m 0us/step\n"
          ]
        },
        {
          "output_type": "stream",
          "name": "stderr",
          "text": [
            "/usr/local/lib/python3.12/dist-packages/keras/src/trainers/data_adapters/py_dataset_adapter.py:121: UserWarning: Your `PyDataset` class should call `super().__init__(**kwargs)` in its constructor. `**kwargs` can include `workers`, `use_multiprocessing`, `max_queue_size`. Do not pass these arguments to `fit()`, as they will be ignored.\n",
            "  self._warn_if_super_not_called()\n"
          ]
        },
        {
          "output_type": "stream",
          "name": "stdout",
          "text": [
            "Epoch 1/10\n",
            "\u001b[1m782/782\u001b[0m \u001b[32m━━━━━━━━━━━━━━━━━━━━\u001b[0m\u001b[37m\u001b[0m \u001b[1m131s\u001b[0m 148ms/step - accuracy: 0.5255 - loss: 1.3656 - val_accuracy: 0.7568 - val_loss: 0.7080\n",
            "Epoch 2/10\n",
            "\u001b[1m782/782\u001b[0m \u001b[32m━━━━━━━━━━━━━━━━━━━━\u001b[0m\u001b[37m\u001b[0m \u001b[1m94s\u001b[0m 120ms/step - accuracy: 0.6718 - loss: 0.9335 - val_accuracy: 0.7701 - val_loss: 0.6758\n",
            "Epoch 3/10\n",
            "\u001b[1m782/782\u001b[0m \u001b[32m━━━━━━━━━━━━━━━━━━━━\u001b[0m\u001b[37m\u001b[0m \u001b[1m95s\u001b[0m 121ms/step - accuracy: 0.6867 - loss: 0.9035 - val_accuracy: 0.7719 - val_loss: 0.6713\n",
            "Epoch 4/10\n",
            "\u001b[1m782/782\u001b[0m \u001b[32m━━━━━━━━━━━━━━━━━━━━\u001b[0m\u001b[37m\u001b[0m \u001b[1m93s\u001b[0m 120ms/step - accuracy: 0.6951 - loss: 0.8721 - val_accuracy: 0.7802 - val_loss: 0.6412\n",
            "Epoch 5/10\n",
            "\u001b[1m782/782\u001b[0m \u001b[32m━━━━━━━━━━━━━━━━━━━━\u001b[0m\u001b[37m\u001b[0m \u001b[1m95s\u001b[0m 122ms/step - accuracy: 0.7030 - loss: 0.8534 - val_accuracy: 0.7819 - val_loss: 0.6369\n",
            "Epoch 6/10\n",
            "\u001b[1m782/782\u001b[0m \u001b[32m━━━━━━━━━━━━━━━━━━━━\u001b[0m\u001b[37m\u001b[0m \u001b[1m93s\u001b[0m 119ms/step - accuracy: 0.7043 - loss: 0.8504 - val_accuracy: 0.7903 - val_loss: 0.6120\n",
            "Epoch 7/10\n",
            "\u001b[1m782/782\u001b[0m \u001b[32m━━━━━━━━━━━━━━━━━━━━\u001b[0m\u001b[37m\u001b[0m \u001b[1m94s\u001b[0m 120ms/step - accuracy: 0.7074 - loss: 0.8348 - val_accuracy: 0.7856 - val_loss: 0.6221\n",
            "Epoch 8/10\n",
            "\u001b[1m782/782\u001b[0m \u001b[32m━━━━━━━━━━━━━━━━━━━━\u001b[0m\u001b[37m\u001b[0m \u001b[1m94s\u001b[0m 120ms/step - accuracy: 0.7142 - loss: 0.8247 - val_accuracy: 0.7867 - val_loss: 0.6178\n",
            "Epoch 9/10\n",
            "\u001b[1m782/782\u001b[0m \u001b[32m━━━━━━━━━━━━━━━━━━━━\u001b[0m\u001b[37m\u001b[0m \u001b[1m95s\u001b[0m 121ms/step - accuracy: 0.7155 - loss: 0.8197 - val_accuracy: 0.7915 - val_loss: 0.6085\n",
            "Epoch 10/10\n",
            "\u001b[1m782/782\u001b[0m \u001b[32m━━━━━━━━━━━━━━━━━━━━\u001b[0m\u001b[37m\u001b[0m \u001b[1m95s\u001b[0m 121ms/step - accuracy: 0.7160 - loss: 0.8096 - val_accuracy: 0.7918 - val_loss: 0.6108\n",
            "Epoch 1/10\n",
            "\u001b[1m782/782\u001b[0m \u001b[32m━━━━━━━━━━━━━━━━━━━━\u001b[0m\u001b[37m\u001b[0m \u001b[1m121s\u001b[0m 138ms/step - accuracy: 0.6604 - loss: 1.0456 - val_accuracy: 0.7723 - val_loss: 0.6733\n",
            "Epoch 2/10\n",
            "\u001b[1m201/782\u001b[0m \u001b[32m━━━━━\u001b[0m\u001b[37m━━━━━━━━━━━━━━━\u001b[0m \u001b[1m1:08\u001b[0m 118ms/step - accuracy: 0.7702 - loss: 0.6708"
          ]
        }
      ]
    }
  ],
  "metadata": {
    "accelerator": "GPU",
    "colab": {
      "gpuType": "T4",
      "machine_shape": "hm",
      "provenance": [],
      "toc_visible": true,
      "include_colab_link": true
    },
    "kernelspec": {
      "display_name": "Python 3",
      "name": "python3"
    },
    "language_info": {
      "codemirror_mode": {
        "name": "ipython",
        "version": 3
      },
      "file_extension": ".py",
      "mimetype": "text/x-python",
      "name": "python",
      "nbconvert_exporter": "python",
      "pygments_lexer": "ipython3",
      "version": "3.11.9"
    }
  },
  "nbformat": 4,
  "nbformat_minor": 0
}